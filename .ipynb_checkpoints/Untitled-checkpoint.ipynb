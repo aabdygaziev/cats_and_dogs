{
 "cells": [
  {
   "cell_type": "code",
   "execution_count": null,
   "metadata": {},
   "outputs": [],
   "source": [
    "# import packages\n",
    "import numpy as np\n",
    "import matplotlib.pyplot as plt\n",
    "import cv2 as cv\n",
    "from PIL import Image\n",
    "from scipy import ndimage\n",
    "import random\n",
    "\n",
    "from sklearn.model_selection import train_test_split\n",
    "\n",
    "from os import listdir\n",
    "import os"
   ]
  },
  {
   "cell_type": "code",
   "execution_count": null,
   "metadata": {},
   "outputs": [],
   "source": [
    "train_path = \"/Users/abdygaziev/Documents/FlatironMaterials/Projects/data/dogs-cats-images/dog vs cat/dataset/training_set/\"\n",
    "test_path = \"/Users/abdygaziev/Documents/FlatironMaterials/Projects/data/dogs-cats-images/dog vs cat/dataset/test_set/\"\n",
    "categories = ['cats','dogs']"
   ]
  },
  {
   "cell_type": "code",
   "execution_count": null,
   "metadata": {},
   "outputs": [],
   "source": [
    "#sets\n",
    "print('Number of cat images in train set: ',len(os.listdir(train_path+categories[0])))\n",
    "print('Numebr of dog images in train set: ',len(os.listdir(train_path+categories[1])))\n",
    "print('Number of cat images in test set: ',len(os.listdir(test_path+categories[0])))\n",
    "print('Numebr of dog images in test set: ',len(os.listdir(test_path+categories[1])))\n"
   ]
  },
  {
   "cell_type": "code",
   "execution_count": null,
   "metadata": {},
   "outputs": [],
   "source": [
    "cat = Image.open(train_path+categories[0]+'/cat.1.jpg')\n",
    "dog = Image.open(train_path+categories[1]+'/dog.1.jpg')"
   ]
  },
  {
   "cell_type": "code",
   "execution_count": null,
   "metadata": {},
   "outputs": [],
   "source": [
    "print('dog size',dog.size)\n",
    "print('cat size',cat.size)"
   ]
  },
  {
   "cell_type": "code",
   "execution_count": 6,
   "metadata": {},
   "outputs": [],
   "source": [
    "training_data = []\n",
    "img_size = 200\n",
    "def create_train_data():\n",
    "    for category in categories:\n",
    "        path = os.path.join(train_path,category)\n",
    "        class_num = categories.index(category)\n",
    "        for img in os.listdir(path):\n",
    "            img_array = cv.imread(os.path.join(path,img),cv.IMREAD_COLOR)\n",
    "            new_array = cv.resize(img_array,(img_size,img_size))\n",
    "            training_data.append([new_array,class_num])"
   ]
  },
  {
   "cell_type": "code",
   "execution_count": 7,
   "metadata": {},
   "outputs": [],
   "source": [
    "#collecting test set\n",
    "test_data = []\n",
    "for category in categories:\n",
    "        path = os.path.join(test_path,category)\n",
    "        for img in os.listdir(path):\n",
    "            img_array = cv.imread(os.path.join(path,img),cv.IMREAD_COLOR)\n",
    "            new_array = cv.resize(img_array,(img_size,img_size))\n",
    "            test_data.append(new_array)"
   ]
  },
  {
   "cell_type": "code",
   "execution_count": 8,
   "metadata": {},
   "outputs": [],
   "source": [
    "create_train_data()\n",
    "test_data = np.asarray(test_data)\n",
    "train_data = np.asarray(training_data)"
   ]
  },
  {
   "cell_type": "code",
   "execution_count": 9,
   "metadata": {},
   "outputs": [
    {
     "name": "stdout",
     "output_type": "stream",
     "text": [
      "test set shape:  (2000, 200, 200, 3)\n",
      "train set shape:  (8000, 2)\n"
     ]
    }
   ],
   "source": [
    "# train, test sets' shapes\n",
    "print('test set shape: ', test_data.shape)\n",
    "print('train set shape: ', train_data.shape)\n"
   ]
  },
  {
   "cell_type": "code",
   "execution_count": 10,
   "metadata": {},
   "outputs": [],
   "source": [
    "#suffle the data\n",
    "random.shuffle(train_data)"
   ]
  },
  {
   "cell_type": "code",
   "execution_count": 36,
   "metadata": {},
   "outputs": [
    {
     "name": "stdout",
     "output_type": "stream",
     "text": [
      "X shape (8000, 200, 200, 3)\n",
      "y shape (1, 8000)\n"
     ]
    }
   ],
   "source": [
    "#separting feature and labels\n",
    "X = []\n",
    "y = []\n",
    "for feature,label in train_data:\n",
    "    X.append(feature)\n",
    "    y.append(label)\n",
    "    \n",
    "#converting into numpy array\n",
    "X = np.asarray(X) #features\n",
    "y = np.asarray(y) # labels\n",
    "y = np.reshape(y,newshape=(1,y.shape[0]))\n",
    "print('X shape', X.shape)\n",
    "print('y shape', y.shape)"
   ]
  },
  {
   "cell_type": "markdown",
   "metadata": {},
   "source": [
    "\n",
    "A trick when you want to flatten a matrix X of shape (a,b,c,d) to a matrix X_flatten of shape (b$*$c$*$d, a) is to use: \n",
    "```python\n",
    "X_flatten = X.reshape(X.shape[0], -1).T      # X.T is the transpose of X\n",
    "```"
   ]
  },
  {
   "cell_type": "code",
   "execution_count": 37,
   "metadata": {},
   "outputs": [
    {
     "name": "stdout",
     "output_type": "stream",
     "text": [
      "X shape (8000, 200, 200, 3)\n",
      "X_flatten (120000, 8000)\n",
      "y shape (1, 8000)\n",
      "test shape (120000, 2000)\n"
     ]
    }
   ],
   "source": [
    "X_flatten = X.reshape(X.shape[0],-1).T\n",
    "test_flatten = test_data.reshape(test_data.shape[0],-1).T\n",
    "\n",
    "print('X shape', X.shape)\n",
    "print('X_flatten',X_flatten.shape)\n",
    "print('y shape', y.shape)\n",
    "print('test shape', test_flatten.shape)"
   ]
  },
  {
   "cell_type": "markdown",
   "metadata": {},
   "source": [
    "To represent color images, the red, green and blue channels (RGB) must be specified for each pixel, and so the pixel value is actually a vector of three numbers ranging from 0 to 255.\n"
   ]
  },
  {
   "cell_type": "code",
   "execution_count": 18,
   "metadata": {},
   "outputs": [],
   "source": [
    "# standartizing the data sets\n",
    "train_set_x = X_flatten/255\n",
    "test_set_x  = test_flatten/255"
   ]
  },
  {
   "cell_type": "markdown",
   "metadata": {},
   "source": [
    "### Building parts of our deep learning alogrithm:\n",
    "* Sigmoid function\n",
    "* Initializing parameters : w,b\n",
    "* Calculate loss: forward, back propogation, update parameters (gradient descent)\n"
   ]
  },
  {
   "cell_type": "markdown",
   "metadata": {},
   "source": [
    "$$z^{(i)} = w^T x^{(i)} + b \\tag{1}$$\n",
    "$$\\hat{y}^{(i)} = a^{(i)} = sigmoid(z^{(i)})\\tag{2}$$ \n",
    "$$ \\mathcal{L}(a^{(i)}, y^{(i)}) =  - y^{(i)}  \\log(a^{(i)}) - (1-y^{(i)} )  \\log(1-a^{(i)})\\tag{3}$$\n",
    "\n",
    "The cost is then computed by summing over all training examples:\n",
    "$$ J = \\frac{1}{m} \\sum_{i=1}^m \\mathcal{L}(a^{(i)}, y^{(i)})\\tag{6}$$\n"
   ]
  },
  {
   "cell_type": "code",
   "execution_count": 31,
   "metadata": {},
   "outputs": [],
   "source": [
    "def sigmoid(z):\n",
    "    #writing mathematical formual as a code\n",
    "    s = 1/(1+np.exp(-z))\n",
    "    return s\n",
    "    \n",
    "# initializing parameters\n",
    "def init_param(dim):\n",
    "    \"\"\"\n",
    "    This function creates a vector of zeros of shape (dim, 1) for w and initializes b to 0.\n",
    "    \n",
    "    Argument:\n",
    "    dim -- size of the w vector we want (or number of parameters in this case)\n",
    "    \n",
    "    Returns:\n",
    "    w -- initialized vector of shape (dim, 1)\n",
    "    b -- initialized scalar (corresponds to the bias)\n",
    "    \"\"\"\n",
    "    w = np.zeros((dim,1))\n",
    "    b = 0\n",
    "    \n",
    "    assert(w.shape == (dim, 1))\n",
    "    assert(isinstance(b, float) or isinstance(b, int))\n",
    "    \n",
    "    return w, b\n"
   ]
  },
  {
   "cell_type": "code",
   "execution_count": 42,
   "metadata": {},
   "outputs": [
    {
     "name": "stdout",
     "output_type": "stream",
     "text": [
      "sigmoid([0, 2]) = [0.5        0.88079708]\n",
      "w = [[0.]\n",
      " [0.]]\n",
      "b = 0\n"
     ]
    }
   ],
   "source": [
    "print (\"sigmoid([0, 2]) = \" + str(sigmoid(np.array([0,2]))))\n",
    "dim = 2\n",
    "w, b = init_param(dim)\n",
    "print (\"w = \" + str(w))\n",
    "print (\"b = \" + str(b))"
   ]
  },
  {
   "cell_type": "markdown",
   "metadata": {},
   "source": [
    "Forward Propagation:\n",
    "- You get X\n",
    "- You compute $A = \\sigma(w^T X + b) = (a^{(1)}, a^{(2)}, ..., a^{(m-1)}, a^{(m)})$\n",
    "- You calculate the cost function: $J = -\\frac{1}{m}\\sum_{i=1}^{m}y^{(i)}\\log(a^{(i)})+(1-y^{(i)})\\log(1-a^{(i)})$\n",
    "\n",
    "Formulas I will be using: \n",
    "\n",
    "$$ \\frac{\\partial J}{\\partial w} = \\frac{1}{m}X(A-Y)^T\\tag{7}$$\n",
    "$$ \\frac{\\partial J}{\\partial b} = \\frac{1}{m} \\sum_{i=1}^m (a^{(i)}-y^{(i)})\\tag{8}$$"
   ]
  },
  {
   "cell_type": "code",
   "execution_count": 54,
   "metadata": {},
   "outputs": [],
   "source": [
    "def propogation(w,b,X,Y):\n",
    "    \"\"\"\n",
    "    Arguments:\n",
    "    w -- weights, a numpy array of size (num_px * num_px * 3, 1)\n",
    "    b -- bias, a scalar\n",
    "    X -- data of size (num_px * num_px * 3, number of examples)\n",
    "    Y -- true \"label\" vector (containing 0 if non-cat, 1 if cat) of size (1, number of examples)\n",
    "\n",
    "    Return:\n",
    "    cost -- negative log-likelihood cost for logistic regression\n",
    "    dw -- gradient of the loss with respect to w, thus same shape as w\n",
    "    db -- gradient of the loss with respect to b, thus same shape as b\n",
    "    \"\"\"\n",
    "    m = X.shape[0]\n",
    "    \n",
    "    A = sigmoid(np.dot(w.T,X)+b)\n",
    "    cost = np.sum(Y*np.log(A)+(1-Y)*np.log((1-A)),axis=1,keepdims=True)  # compute cost\n",
    "    cost = -cost/m\n",
    "    \n",
    "    dw = np.dot(X,(A-Y).T)/ m\n",
    "    db = np.sum(A-Y) / m\n",
    "    \n",
    "    assert(dw.shape == w.shape)\n",
    "    assert(db.dtype == float)\n",
    "    cost = np.squeeze(cost)\n",
    "    assert(cost.shape == ())\n",
    "    \n",
    "    grads = {\"dw\": dw,\n",
    "             \"db\": db}\n",
    "    \n",
    "    return grads, cost"
   ]
  },
  {
   "cell_type": "code",
   "execution_count": 55,
   "metadata": {},
   "outputs": [
    {
     "name": "stdout",
     "output_type": "stream",
     "text": [
      "dw = [[1.49768402]\n",
      " [3.59260858]]\n",
      "db = 0.002183367205176312\n",
      "cost = 8.70231797909183\n"
     ]
    }
   ],
   "source": [
    "w, b, X, Y = np.array([[1.],[2.]]), 2., np.array([[1.,2.,-1.],[3.,4.,-3.2]]), np.array([[1,0,1]])\n",
    "grads, cost = propogation(w, b, X, Y)\n",
    "print (\"dw = \" + str(grads[\"dw\"]))\n",
    "print (\"db = \" + str(grads[\"db\"]))\n",
    "print (\"cost = \" + str(cost))"
   ]
  },
  {
   "cell_type": "code",
   "execution_count": null,
   "metadata": {},
   "outputs": [],
   "source": []
  }
 ],
 "metadata": {
  "kernelspec": {
   "display_name": "Python 3",
   "language": "python",
   "name": "python3"
  },
  "language_info": {
   "codemirror_mode": {
    "name": "ipython",
    "version": 3
   },
   "file_extension": ".py",
   "mimetype": "text/x-python",
   "name": "python",
   "nbconvert_exporter": "python",
   "pygments_lexer": "ipython3",
   "version": "3.7.7"
  }
 },
 "nbformat": 4,
 "nbformat_minor": 4
}
